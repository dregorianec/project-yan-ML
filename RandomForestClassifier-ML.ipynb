{
 "cells": [
  {
   "cell_type": "code",
   "execution_count": 20,
   "id": "9e35c276",
   "metadata": {},
   "outputs": [],
   "source": [
    "import numpy as np\n",
    "from sklearn.model_selection import train_test_split\n",
    "from sklearn.ensemble import RandomForestClassifier"
   ]
  },
  {
   "cell_type": "code",
   "execution_count": 22,
   "id": "051cd195",
   "metadata": {},
   "outputs": [],
   "source": [
    "import pandas as pd\n",
    "from sklearn.preprocessing import LabelEncoder \n",
    "from sklearn.metrics import accuracy_score"
   ]
  },
  {
   "cell_type": "code",
   "execution_count": 4,
   "id": "5af09011",
   "metadata": {},
   "outputs": [],
   "source": [
    "data = pd.read_csv('titanic.csv')"
   ]
  },
  {
   "cell_type": "code",
   "execution_count": 5,
   "id": "3f452924",
   "metadata": {},
   "outputs": [],
   "source": [
    "data.age.fillna(data.age.mode()[0], inplace = True)"
   ]
  },
  {
   "cell_type": "code",
   "execution_count": 6,
   "id": "4c96afb1",
   "metadata": {},
   "outputs": [],
   "source": [
    "data.deck.fillna(data.deck.mode()[0], inplace = True)"
   ]
  },
  {
   "cell_type": "code",
   "execution_count": 7,
   "id": "e504b440",
   "metadata": {},
   "outputs": [],
   "source": [
    "data.embark_town.fillna(data.embark_town.mode()[0], inplace = True)"
   ]
  },
  {
   "cell_type": "code",
   "execution_count": 8,
   "id": "d0c747b5",
   "metadata": {},
   "outputs": [],
   "source": [
    "target = data['survived']\n",
    "data = data.drop('survived', axis = 1)"
   ]
  },
  {
   "cell_type": "code",
   "execution_count": 9,
   "id": "15b7dc86",
   "metadata": {},
   "outputs": [],
   "source": [
    "Me = [data.pclass.mode()[0], 'female', 33.0, 1, 2, data.fare.mode()[0], data.embarked.mode()[0], data['class'].mode()[0], 'woman', True, data.deck.mode()[0], data.embark_town.mode()[0], 'yes', True]\n",
    "data.loc[891] = Me"
   ]
  },
  {
   "cell_type": "code",
   "execution_count": 10,
   "id": "a1ac5587",
   "metadata": {},
   "outputs": [],
   "source": [
    "le = LabelEncoder() # Initialization of Encoder\n",
    "\n",
    "data['sex'] = le.fit_transform(data['sex']) # Encode of of columns where we can find str\n",
    "data['class'] = le.fit_transform(data['class'])\n",
    "data['who'] = le.fit_transform(data['who'])\n",
    "data['deck'] = le.fit_transform(data['deck'])\n",
    "data['embarked'] = le.fit_transform(data['embarked'])\n",
    "data['adult_male'] = le.fit_transform(data['adult_male'])\n",
    "data['embark_town'] = le.fit_transform(data['embark_town'])\n",
    "data['alive'] = le.fit_transform(data['alive'])\n",
    "data['alone'] = le.fit_transform(data['alone'])"
   ]
  },
  {
   "cell_type": "code",
   "execution_count": 17,
   "id": "ccbdac9d",
   "metadata": {},
   "outputs": [],
   "source": [
    "target.loc[891] = 1"
   ]
  },
  {
   "cell_type": "code",
   "execution_count": 19,
   "id": "2571a01a",
   "metadata": {},
   "outputs": [],
   "source": [
    "x_train, x_test, y_train, y_test = train_test_split(data, target, test_size = 0.2, random_state = 0)"
   ]
  },
  {
   "cell_type": "code",
   "execution_count": 21,
   "id": "ff3e485d",
   "metadata": {},
   "outputs": [
    {
     "data": {
      "text/plain": [
       "RandomForestClassifier()"
      ]
     },
     "execution_count": 21,
     "metadata": {},
     "output_type": "execute_result"
    }
   ],
   "source": [
    "RFC = RandomForestClassifier() \n",
    "RFC.fit(x_train, y_train)"
   ]
  },
  {
   "cell_type": "code",
   "execution_count": 23,
   "id": "ff1c4674",
   "metadata": {},
   "outputs": [
    {
     "name": "stdout",
     "output_type": "stream",
     "text": [
      "Правильность на обучающем наборе: 1.0\n",
      "Правильность на тестовом наборе: 1.0\n"
     ]
    }
   ],
   "source": [
    "pred_RFC_train = RFC.predict(x_train)\n",
    "pred_RFC_test = RFC.predict(x_test)\n",
    "\n",
    "print('Правильность на обучающем наборе:', np.round(accuracy_score(y_train, pred_RFC_train), 2))\n",
    "print('Правильность на тестовом наборе:', np.round(accuracy_score(y_test, pred_RFC_test), 2))"
   ]
  },
  {
   "cell_type": "code",
   "execution_count": 24,
   "id": "5b2061d2",
   "metadata": {},
   "outputs": [
    {
     "data": {
      "text/plain": [
       "{'pclass': 0,\n",
       " 'sex': 0,\n",
       " 'age': 0,\n",
       " 'sibsp': 0,\n",
       " 'parch': 0,\n",
       " 'fare': 0,\n",
       " 'embarked': 0,\n",
       " 'class': 0,\n",
       " 'who': 0,\n",
       " 'adult_male': 0,\n",
       " 'deck': 0,\n",
       " 'embark_town': 0,\n",
       " 'alive': 0,\n",
       " 'alone': 0}"
      ]
     },
     "execution_count": 24,
     "metadata": {},
     "output_type": "execute_result"
    }
   ],
   "source": [
    "{el:0 for el in data}"
   ]
  },
  {
   "cell_type": "code",
   "execution_count": 25,
   "id": "e9284018",
   "metadata": {},
   "outputs": [
    {
     "data": {
      "text/html": [
       "<div>\n",
       "<style scoped>\n",
       "    .dataframe tbody tr th:only-of-type {\n",
       "        vertical-align: middle;\n",
       "    }\n",
       "\n",
       "    .dataframe tbody tr th {\n",
       "        vertical-align: top;\n",
       "    }\n",
       "\n",
       "    .dataframe thead th {\n",
       "        text-align: right;\n",
       "    }\n",
       "</style>\n",
       "<table border=\"1\" class=\"dataframe\">\n",
       "  <thead>\n",
       "    <tr style=\"text-align: right;\">\n",
       "      <th></th>\n",
       "      <th>pclass</th>\n",
       "      <th>sex</th>\n",
       "      <th>age</th>\n",
       "      <th>sibsp</th>\n",
       "      <th>parch</th>\n",
       "      <th>fare</th>\n",
       "      <th>embarked</th>\n",
       "      <th>class</th>\n",
       "      <th>who</th>\n",
       "      <th>adult_male</th>\n",
       "      <th>deck</th>\n",
       "      <th>embark_town</th>\n",
       "      <th>alive</th>\n",
       "      <th>alone</th>\n",
       "    </tr>\n",
       "  </thead>\n",
       "  <tbody>\n",
       "    <tr>\n",
       "      <th>0</th>\n",
       "      <td>3</td>\n",
       "      <td>1</td>\n",
       "      <td>22.0</td>\n",
       "      <td>1</td>\n",
       "      <td>0</td>\n",
       "      <td>7.2500</td>\n",
       "      <td>2</td>\n",
       "      <td>2</td>\n",
       "      <td>1</td>\n",
       "      <td>1</td>\n",
       "      <td>2</td>\n",
       "      <td>2</td>\n",
       "      <td>0</td>\n",
       "      <td>0</td>\n",
       "    </tr>\n",
       "    <tr>\n",
       "      <th>1</th>\n",
       "      <td>1</td>\n",
       "      <td>0</td>\n",
       "      <td>38.0</td>\n",
       "      <td>1</td>\n",
       "      <td>0</td>\n",
       "      <td>71.2833</td>\n",
       "      <td>0</td>\n",
       "      <td>0</td>\n",
       "      <td>2</td>\n",
       "      <td>0</td>\n",
       "      <td>2</td>\n",
       "      <td>0</td>\n",
       "      <td>1</td>\n",
       "      <td>0</td>\n",
       "    </tr>\n",
       "    <tr>\n",
       "      <th>2</th>\n",
       "      <td>3</td>\n",
       "      <td>0</td>\n",
       "      <td>26.0</td>\n",
       "      <td>0</td>\n",
       "      <td>0</td>\n",
       "      <td>7.9250</td>\n",
       "      <td>2</td>\n",
       "      <td>2</td>\n",
       "      <td>2</td>\n",
       "      <td>0</td>\n",
       "      <td>2</td>\n",
       "      <td>2</td>\n",
       "      <td>1</td>\n",
       "      <td>1</td>\n",
       "    </tr>\n",
       "    <tr>\n",
       "      <th>3</th>\n",
       "      <td>1</td>\n",
       "      <td>0</td>\n",
       "      <td>35.0</td>\n",
       "      <td>1</td>\n",
       "      <td>0</td>\n",
       "      <td>53.1000</td>\n",
       "      <td>2</td>\n",
       "      <td>0</td>\n",
       "      <td>2</td>\n",
       "      <td>0</td>\n",
       "      <td>2</td>\n",
       "      <td>2</td>\n",
       "      <td>1</td>\n",
       "      <td>0</td>\n",
       "    </tr>\n",
       "    <tr>\n",
       "      <th>4</th>\n",
       "      <td>3</td>\n",
       "      <td>1</td>\n",
       "      <td>35.0</td>\n",
       "      <td>0</td>\n",
       "      <td>0</td>\n",
       "      <td>8.0500</td>\n",
       "      <td>2</td>\n",
       "      <td>2</td>\n",
       "      <td>1</td>\n",
       "      <td>1</td>\n",
       "      <td>2</td>\n",
       "      <td>2</td>\n",
       "      <td>0</td>\n",
       "      <td>1</td>\n",
       "    </tr>\n",
       "    <tr>\n",
       "      <th>...</th>\n",
       "      <td>...</td>\n",
       "      <td>...</td>\n",
       "      <td>...</td>\n",
       "      <td>...</td>\n",
       "      <td>...</td>\n",
       "      <td>...</td>\n",
       "      <td>...</td>\n",
       "      <td>...</td>\n",
       "      <td>...</td>\n",
       "      <td>...</td>\n",
       "      <td>...</td>\n",
       "      <td>...</td>\n",
       "      <td>...</td>\n",
       "      <td>...</td>\n",
       "    </tr>\n",
       "    <tr>\n",
       "      <th>887</th>\n",
       "      <td>1</td>\n",
       "      <td>0</td>\n",
       "      <td>19.0</td>\n",
       "      <td>0</td>\n",
       "      <td>0</td>\n",
       "      <td>30.0000</td>\n",
       "      <td>2</td>\n",
       "      <td>0</td>\n",
       "      <td>2</td>\n",
       "      <td>0</td>\n",
       "      <td>1</td>\n",
       "      <td>2</td>\n",
       "      <td>1</td>\n",
       "      <td>1</td>\n",
       "    </tr>\n",
       "    <tr>\n",
       "      <th>888</th>\n",
       "      <td>3</td>\n",
       "      <td>0</td>\n",
       "      <td>24.0</td>\n",
       "      <td>1</td>\n",
       "      <td>2</td>\n",
       "      <td>23.4500</td>\n",
       "      <td>2</td>\n",
       "      <td>2</td>\n",
       "      <td>2</td>\n",
       "      <td>0</td>\n",
       "      <td>2</td>\n",
       "      <td>2</td>\n",
       "      <td>0</td>\n",
       "      <td>0</td>\n",
       "    </tr>\n",
       "    <tr>\n",
       "      <th>889</th>\n",
       "      <td>1</td>\n",
       "      <td>1</td>\n",
       "      <td>26.0</td>\n",
       "      <td>0</td>\n",
       "      <td>0</td>\n",
       "      <td>30.0000</td>\n",
       "      <td>0</td>\n",
       "      <td>0</td>\n",
       "      <td>1</td>\n",
       "      <td>1</td>\n",
       "      <td>2</td>\n",
       "      <td>0</td>\n",
       "      <td>1</td>\n",
       "      <td>1</td>\n",
       "    </tr>\n",
       "    <tr>\n",
       "      <th>890</th>\n",
       "      <td>3</td>\n",
       "      <td>1</td>\n",
       "      <td>32.0</td>\n",
       "      <td>0</td>\n",
       "      <td>0</td>\n",
       "      <td>7.7500</td>\n",
       "      <td>1</td>\n",
       "      <td>2</td>\n",
       "      <td>1</td>\n",
       "      <td>1</td>\n",
       "      <td>2</td>\n",
       "      <td>1</td>\n",
       "      <td>0</td>\n",
       "      <td>1</td>\n",
       "    </tr>\n",
       "    <tr>\n",
       "      <th>891</th>\n",
       "      <td>3</td>\n",
       "      <td>0</td>\n",
       "      <td>33.0</td>\n",
       "      <td>1</td>\n",
       "      <td>2</td>\n",
       "      <td>8.0500</td>\n",
       "      <td>2</td>\n",
       "      <td>2</td>\n",
       "      <td>2</td>\n",
       "      <td>1</td>\n",
       "      <td>2</td>\n",
       "      <td>2</td>\n",
       "      <td>1</td>\n",
       "      <td>1</td>\n",
       "    </tr>\n",
       "  </tbody>\n",
       "</table>\n",
       "<p>892 rows × 14 columns</p>\n",
       "</div>"
      ],
      "text/plain": [
       "     pclass  sex   age  sibsp  parch     fare  embarked  class  who  \\\n",
       "0         3    1  22.0      1      0   7.2500         2      2    1   \n",
       "1         1    0  38.0      1      0  71.2833         0      0    2   \n",
       "2         3    0  26.0      0      0   7.9250         2      2    2   \n",
       "3         1    0  35.0      1      0  53.1000         2      0    2   \n",
       "4         3    1  35.0      0      0   8.0500         2      2    1   \n",
       "..      ...  ...   ...    ...    ...      ...       ...    ...  ...   \n",
       "887       1    0  19.0      0      0  30.0000         2      0    2   \n",
       "888       3    0  24.0      1      2  23.4500         2      2    2   \n",
       "889       1    1  26.0      0      0  30.0000         0      0    1   \n",
       "890       3    1  32.0      0      0   7.7500         1      2    1   \n",
       "891       3    0  33.0      1      2   8.0500         2      2    2   \n",
       "\n",
       "     adult_male  deck  embark_town  alive  alone  \n",
       "0             1     2            2      0      0  \n",
       "1             0     2            0      1      0  \n",
       "2             0     2            2      1      1  \n",
       "3             0     2            2      1      0  \n",
       "4             1     2            2      0      1  \n",
       "..          ...   ...          ...    ...    ...  \n",
       "887           0     1            2      1      1  \n",
       "888           0     2            2      0      0  \n",
       "889           1     2            0      1      1  \n",
       "890           1     2            1      0      1  \n",
       "891           1     2            2      1      1  \n",
       "\n",
       "[892 rows x 14 columns]"
      ]
     },
     "execution_count": 25,
     "metadata": {},
     "output_type": "execute_result"
    }
   ],
   "source": [
    "data"
   ]
  },
  {
   "cell_type": "code",
   "execution_count": 45,
   "id": "89437820",
   "metadata": {},
   "outputs": [],
   "source": [
    "me = {'pclass': 3,\n",
    " 'sex': 1,\n",
    " 'age': 16.0,\n",
    " 'sibsp': 0,\n",
    " 'parch': 0,\n",
    " 'fare': 7.3000,\n",
    " 'embarked': 1,\n",
    " 'class': 2,\n",
    " 'who': 1,\n",
    " 'adult_male': 0,\n",
    " 'deck': 2,\n",
    " 'embark_town': 1,\n",
    " 'alive': 0,\n",
    " 'alone': 1}"
   ]
  },
  {
   "cell_type": "code",
   "execution_count": 46,
   "id": "a2ab6309",
   "metadata": {},
   "outputs": [],
   "source": [
    "me =  pd.DataFrame(data = [me])"
   ]
  },
  {
   "cell_type": "code",
   "execution_count": 47,
   "id": "d8dd4494",
   "metadata": {},
   "outputs": [
    {
     "name": "stdout",
     "output_type": "stream",
     "text": [
      "[0]\n"
     ]
    }
   ],
   "source": [
    "prediction = RFC.predict(me)\n",
    "print(prediction)"
   ]
  },
  {
   "cell_type": "code",
   "execution_count": 44,
   "id": "b44ed625",
   "metadata": {},
   "outputs": [
    {
     "data": {
      "text/plain": [
       "0      0\n",
       "1      1\n",
       "2      1\n",
       "3      1\n",
       "4      0\n",
       "      ..\n",
       "887    1\n",
       "888    0\n",
       "889    1\n",
       "890    0\n",
       "891    1\n",
       "Name: survived, Length: 892, dtype: int64"
      ]
     },
     "execution_count": 44,
     "metadata": {},
     "output_type": "execute_result"
    }
   ],
   "source": [
    "target"
   ]
  },
  {
   "cell_type": "code",
   "execution_count": null,
   "id": "a3a3449e",
   "metadata": {},
   "outputs": [],
   "source": []
  }
 ],
 "metadata": {
  "kernelspec": {
   "display_name": "Python 3 (ipykernel)",
   "language": "python",
   "name": "python3"
  },
  "language_info": {
   "codemirror_mode": {
    "name": "ipython",
    "version": 3
   },
   "file_extension": ".py",
   "mimetype": "text/x-python",
   "name": "python",
   "nbconvert_exporter": "python",
   "pygments_lexer": "ipython3",
   "version": "3.9.5"
  }
 },
 "nbformat": 4,
 "nbformat_minor": 5
}
